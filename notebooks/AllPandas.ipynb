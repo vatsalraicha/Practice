{
 "cells": [
  {
   "cell_type": "code",
   "execution_count": null,
   "metadata": {},
   "outputs": [],
   "source": [
    "import sys\n",
    "sys.version, sys.path"
   ]
  },
  {
   "cell_type": "code",
   "execution_count": null,
   "metadata": {},
   "outputs": [],
   "source": [
    "import pandas as pd\n",
    "\n",
    "# Sample DataFrames\n",
    "df1 = pd.DataFrame({'A': ['A0', 'A1', 'A2'],\n",
    "                    'B': ['B0', 'B1', 'B2']})\n",
    "\n",
    "df2 = pd.DataFrame({'A': ['A3', 'A4', 'A5'],\n",
    "                    'B': ['B3', 'B4', 'B5']})\n",
    "\n",
    "df3 = pd.DataFrame({'C': ['C0', 'C1', 'C2'],\n",
    "                    'D': ['D0', 'D1', 'D2']})\n",
    "\n",
    "# Concatenate with hierarchical indexing\n",
    "concatenated_data = pd.concat([df1, df2, df3], keys=['Group1', 'Group2', 'Group3'])\n",
    "print(concatenated_data)\n"
   ]
  },
  {
   "cell_type": "code",
   "execution_count": null,
   "metadata": {},
   "outputs": [],
   "source": [
    "# Sample sales data\n",
    "sales_data = pd.DataFrame({\n",
    "    'Year': [2019, 2019, 2020, 2020, 2021],\n",
    "    'Quarter': ['Q1', 'Q2', 'Q1', 'Q2', 'Q1'],\n",
    "    'Product': ['A', 'B', 'A', 'B', 'A'],\n",
    "    'Revenue': [1000, 1500, 1200, 1800, 1300]\n",
    "})\n",
    "\n",
    "# Group by multiple columns and calculate multiple aggregate statistics\n",
    "grouped_data = sales_data.groupby(['Year', 'Product']).agg({'Revenue': ['sum', 'mean', 'max']\n",
    "}).reset_index()\n",
    "\n",
    "print(grouped_data)"
   ]
  },
  {
   "cell_type": "code",
   "execution_count": null,
   "metadata": {},
   "outputs": [],
   "source": [
    "l = [1,3,3,5,2,4,10,5,6,5]"
   ]
  },
  {
   "cell_type": "code",
   "execution_count": null,
   "metadata": {},
   "outputs": [],
   "source": []
  },
  {
   "cell_type": "code",
   "execution_count": null,
   "metadata": {},
   "outputs": [],
   "source": [
    "d = {}\n",
    "\n",
    "for x in l:\n",
    "    if x in d:\n",
    "        d[x] = d[x] +1\n",
    "    else:\n",
    "        d[x] = 1\n",
    "\n",
    "print(d)"
   ]
  },
  {
   "cell_type": "code",
   "execution_count": null,
   "metadata": {},
   "outputs": [],
   "source": [
    "import numpy as np"
   ]
  },
  {
   "cell_type": "code",
   "execution_count": null,
   "metadata": {},
   "outputs": [],
   "source": [
    "l = [1,3,3,5,2,4,10,5,6,5]\n"
   ]
  },
  {
   "cell_type": "code",
   "execution_count": null,
   "metadata": {},
   "outputs": [],
   "source": [
    "l.sort()\n",
    "l[-2]\n"
   ]
  },
  {
   "cell_type": "code",
   "execution_count": null,
   "metadata": {},
   "outputs": [],
   "source": [
    "input = [10, 20, 30, 40, 50]\n",
    "#Output : [10, 30, 60, 100, 150]\n",
    "out = []\n",
    "for i,x in enumerate(input):\n",
    "    if i == 0:\n",
    "        out.append(x)\n",
    "    else:\n",
    "        out.append(out[-1] + x)\n",
    "out"
   ]
  },
  {
   "cell_type": "code",
   "execution_count": null,
   "metadata": {},
   "outputs": [],
   "source": [
    "url = 'https://raw.githubusercontent.com/Sketchjar/MachineLearningHD/main/bank_marketing_dataset.csv'\n",
    "\n",
    "df = pd.read_csv(url)"
   ]
  },
  {
   "cell_type": "code",
   "execution_count": null,
   "metadata": {},
   "outputs": [],
   "source": [
    "df.head()"
   ]
  },
  {
   "cell_type": "code",
   "execution_count": null,
   "metadata": {},
   "outputs": [],
   "source": [
    "df.columns"
   ]
  },
  {
   "cell_type": "code",
   "execution_count": null,
   "metadata": {},
   "outputs": [],
   "source": [
    "df.isna().sum()/df.shape[0]"
   ]
  },
  {
   "cell_type": "code",
   "execution_count": null,
   "metadata": {},
   "outputs": [],
   "source": [
    "df.isnull().sum()"
   ]
  },
  {
   "cell_type": "code",
   "execution_count": null,
   "metadata": {},
   "outputs": [],
   "source": [
    "df.columns = [\"_\".join(col.replace(\".\", \"_\").split(\"_\")).capitalize() for col in df.columns]"
   ]
  },
  {
   "cell_type": "code",
   "execution_count": null,
   "metadata": {},
   "outputs": [],
   "source": [
    "df.columns"
   ]
  },
  {
   "cell_type": "code",
   "execution_count": null,
   "metadata": {},
   "outputs": [],
   "source": [
    "df[\"Job\"].value_counts()"
   ]
  },
  {
   "cell_type": "code",
   "execution_count": null,
   "metadata": {},
   "outputs": [],
   "source": [
    "df[df[\"Job\"] == \"unknown\"][\"Job\"] = \"admin.\"\n",
    "df[\"Job\"].value_counts()"
   ]
  },
  {
   "cell_type": "code",
   "execution_count": null,
   "metadata": {},
   "outputs": [],
   "source": [
    "df[\"Job\"] = df[\"Job\"].apply(lambda x: \"admin.\" if x == \"admin\" else x)\n",
    "df[\"Job\"].value_counts()"
   ]
  },
  {
   "cell_type": "code",
   "execution_count": null,
   "metadata": {},
   "outputs": [],
   "source": [
    "df[\"Job\"].sort_values()[0:5]"
   ]
  },
  {
   "cell_type": "code",
   "execution_count": null,
   "metadata": {},
   "outputs": [],
   "source": [
    "url = 'https://raw.githubusercontent.com/Sketchjar/MachineLearningHD/main/churn.csv'\n",
    "\n",
    "df = pd.read_csv(url)"
   ]
  },
  {
   "cell_type": "code",
   "execution_count": null,
   "metadata": {},
   "outputs": [],
   "source": [
    "df.head()"
   ]
  },
  {
   "cell_type": "code",
   "execution_count": null,
   "metadata": {},
   "outputs": [],
   "source": [
    "df.columns"
   ]
  },
  {
   "cell_type": "code",
   "execution_count": null,
   "metadata": {},
   "outputs": [],
   "source": [
    "df[\"TotalCharges\"] = df[\"TotalCharges\"].str.strip()"
   ]
  },
  {
   "cell_type": "code",
   "execution_count": null,
   "metadata": {},
   "outputs": [],
   "source": [
    "df[\"TotalCharges\"] = df[\"TotalCharges\"].apply(lambda x: 0 if len(x)== 0 else float(x))\n",
    "\n",
    "df[\"TotalCharges\"].sum()"
   ]
  },
  {
   "cell_type": "code",
   "execution_count": null,
   "metadata": {},
   "outputs": [],
   "source": [
    "df1 = df.groupby([\"gender\"]).agg({\"tenure\":\"mean\"},).reset_index().rename(columns={\"gender\":\"Gender\", \"tenure\":\"AverageTenure\"})\n",
    "\n",
    "df1"
   ]
  },
  {
   "cell_type": "code",
   "execution_count": null,
   "metadata": {},
   "outputs": [],
   "source": [
    "import pandas as pd"
   ]
  },
  {
   "cell_type": "code",
   "execution_count": null,
   "metadata": {},
   "outputs": [],
   "source": [
    "pd_list = dir(pd)"
   ]
  },
  {
   "cell_type": "code",
   "execution_count": null,
   "metadata": {},
   "outputs": [],
   "source": [
    "pd_list = [x for x in pd_list if ~x.startswith(\"__\") ]"
   ]
  },
  {
   "cell_type": "code",
   "execution_count": null,
   "metadata": {},
   "outputs": [],
   "source": [
    "for i,item in enumerate(pd_list):\n",
    "    print(f'Documentation for {item} - ')\n",
    "    item_object = getattr(pd, item)\n",
    "    help(item)\n",
    "    if i==1:\n",
    "        break"
   ]
  },
  {
   "cell_type": "code",
   "execution_count": null,
   "metadata": {},
   "outputs": [],
   "source": [
    "pd.ArrowDtype?"
   ]
  },
  {
   "cell_type": "code",
   "execution_count": null,
   "metadata": {},
   "outputs": [],
   "source": [
    "getattr?"
   ]
  },
  {
   "cell_type": "code",
   "execution_count": null,
   "metadata": {},
   "outputs": [],
   "source": [
    "from pandas.api import types as ptypes"
   ]
  },
  {
   "cell_type": "code",
   "execution_count": null,
   "metadata": {},
   "outputs": [],
   "source": [
    "import pandas as pd\n",
    "import inspect\n",
    "\n",
    "# Get the signature of the pd.DataFrame constructor\n",
    "constructor_signature = inspect.signature(pd.DataFrame)\n",
    "\n",
    "# Extract the parameters and their details\n",
    "parameters = constructor_signature.parameters\n",
    "\n",
    "# Print the parameter names and their details\n",
    "for param_name, param_details in parameters.items():\n",
    "    print(f\"Parameter: {param_name}\")\n",
    "    print(f\"Default Value: {param_details.default}\")\n",
    "    print(f\"Parameter Annotation: {param_details.annotation}\")\n",
    "    print(f\"Parameter Kind: {param_details.kind}\")\n",
    "    print(\"\\n\")"
   ]
  },
  {
   "cell_type": "code",
   "execution_count": null,
   "metadata": {},
   "outputs": [],
   "source": [
    "import pandas as pd\n",
    "import inspect"
   ]
  },
  {
   "cell_type": "code",
   "execution_count": null,
   "metadata": {},
   "outputs": [],
   "source": [
    "pd_list = dir(pd)\n",
    "pd_list = [x for x in pd_list if (not x.startswith(\"_\"))]\n",
    "pd_list = [x for x in pd_list if (not x.startswith(\"wide_to_long\"))]\n",
    "constructor_signature = []\n",
    "object_name = []\n",
    "object_parmName = []\n",
    "object_parmDefault = []\n",
    "object_parmAnnot = []\n",
    "object_parmKind = []\n",
    "\n",
    "for i,item in enumerate(pd_list):\n",
    "    print(f'Documentation for {item} - ')\n",
    "    item_object = getattr(pd, item)\n",
    "    try:\n",
    "        constructor_signature = inspect.signature(item_object)\n",
    "    except Exception as e:\n",
    "        print(f\"An error occurred for inspect on  {item}: {str(e)}\")\n",
    "    except:\n",
    "        continue\n",
    "    for param_name, param_details in constructor_signature.parameters.items():\n",
    "        object_name.append(item)\n",
    "        object_parmName.append(param_name)\n",
    "        object_parmDefault.append(param_details.default)\n",
    "        object_parmAnnot.append(param_details.annotation)\n",
    "        object_parmKind.append(param_details.kind)"
   ]
  },
  {
   "cell_type": "code",
   "execution_count": null,
   "metadata": {},
   "outputs": [],
   "source": [
    "pandas_dict = {\"Object\" : object_name,\"Parameter\" : object_parmName, \"Default\" : object_parmDefault, \"Annotation\" : object_parmAnnot,\"Kind\" : object_parmKind}\n",
    "pandas_df = pd.DataFrame(object_dict)"
   ]
  },
  {
   "cell_type": "code",
   "execution_count": null,
   "metadata": {},
   "outputs": [],
   "source": [
    "pandas_df[pandas_df[\"Object\"] == \"DataFrame\"]"
   ]
  },
  {
   "cell_type": "code",
   "execution_count": null,
   "metadata": {},
   "outputs": [],
   "source": [
    "\n",
    "\n",
    "for _, name, _ in list(pkgutil.iter_modules(sklearn.__path__)):\n",
    "  print(name)"
   ]
  },
  {
   "cell_type": "code",
   "execution_count": null,
   "metadata": {},
   "outputs": [],
   "source": [
    "import sklearn\n",
    "import pkgutil\n",
    "pd_list = []\n",
    "\n",
    "for _, name, _ in list(pkgutil.iter_modules(sklearn.__path__)):\n",
    "  if not name.startswith(\"_\"):\n",
    "    pd_list.append([name, dir(name)])\n",
    "\n",
    "for pds in pd_list:\n",
    "  pds[1] = [x for x in pds[1] if (not x.startswith(\"_\"))]\n",
    "  pds[1] = [x for x in pds[1] if (not x.startswith(\"wide_to_long\"))]"
   ]
  },
  {
   "cell_type": "code",
   "execution_count": null,
   "metadata": {},
   "outputs": [],
   "source": [
    "import os\n",
    "import inspect\n",
    "import sklearn\n",
    "\n",
    "# Get the path to the sklearn package\n",
    "sklearn_path = os.path.dirname(sklearn.__file__)\n",
    "\n",
    "# List all files and directories within the sklearn package directory\n",
    "for item in os.listdir(sklearn_path):\n",
    "    if os.path.isfile(os.path.join(sklearn_path, item)) and item.endswith(\".py\"):\n",
    "        # This item is a Python module file\n",
    "        module_name = os.path.splitext(item)[0]\n",
    "        module_path = f\"sklearn.{module_name}\"\n",
    "        \n",
    "        try:\n",
    "            # Import the module\n",
    "            module = __import__(module_path, fromlist=[\"\"])\n",
    "            \n",
    "            # List all classes in the module\n",
    "            classes = inspect.getmembers(module, inspect.isclass)\n",
    "            \n",
    "            print(f\"----Classes in {module_name}:\")\n",
    "            for class_name, _ in classes:\n",
    "                print(class_name)\n",
    "            \n",
    "        except ImportError:\n",
    "            print(f\"Failed to import module: {module_name}\")\n"
   ]
  },
  {
   "cell_type": "code",
   "execution_count": null,
   "metadata": {},
   "outputs": [],
   "source": [
    "import os\n",
    "import inspect\n",
    "import sklearn\n",
    "\n",
    "# Function to list classes in a module\n",
    "def list_classes_in_module(module):\n",
    "    classes = inspect.getmembers(module, inspect.isclass)\n",
    "    return [class_name for class_name, _ in classes]\n",
    "\n",
    "# Function to recursively list classes in a package and its sub-packages\n",
    "def list_classes_in_package(package_path, package_name):\n",
    "    classes_in_package = []\n",
    "\n",
    "    for item in os.listdir(package_path):\n",
    "        item_path = os.path.join(package_path, item)\n",
    "\n",
    "        if os.path.isfile(item_path) and item.endswith(\".py\"):\n",
    "            # This item is a Python module file\n",
    "            module_name = package_name + \".\" + os.path.splitext(item)[0]\n",
    "\n",
    "            try:\n",
    "                # Import the module\n",
    "                module = __import__(module_name, fromlist=[\"\"])\n",
    "                classes_in_module = list_classes_in_module(module)\n",
    "                classes_in_package.extend(classes_in_module)\n",
    "\n",
    "            except ImportError:\n",
    "                print(f\"Failed to import module: {module_name}\")\n",
    "            else:\n",
    "                print(f'ModuleName is {module_name}')\n",
    "\n",
    "        elif os.path.isdir(item_path):\n",
    "            # This item is a sub-package\n",
    "            subpackage_name = package_name + \".\" + item\n",
    "            subpackage_path = item_path\n",
    "            classes_in_subpackage = list_classes_in_package(subpackage_path, subpackage_name)\n",
    "            classes_in_package.extend(classes_in_subpackage)\n",
    "\n",
    "    return classes_in_package\n",
    "\n",
    "# Get the path to the sklearn package\n",
    "sklearn_path = os.path.dirname(sklearn.__file__)\n",
    "\n",
    "# List all classes in the sklearn package and its sub-packages\n",
    "sklearn_classes = list_classes_in_package(sklearn_path, \"sklearn\")\n",
    "\n",
    "# Print the list of classes\n",
    "print(\"Classes in sklearn and sub-packages:\")\n",
    "for class_name in sklearn_classes:\n",
    "    print(class_name)\n"
   ]
  },
  {
   "cell_type": "code",
   "execution_count": null,
   "metadata": {},
   "outputs": [],
   "source": [
    "import os\n",
    "import inspect\n",
    "import sklearn\n",
    "\n",
    "# Function to list classes in a module\n",
    "def list_classes_in_module(module):\n",
    "    classes = inspect.getmembers(module, inspect.isclass)\n",
    "    return [class_name for class_name, _ in classes]\n",
    "\n",
    "def list_classes_in_package(package_path, package_name):\n",
    "    classes_in_package = []\n",
    "\n",
    "    for item in os.listdir(package_path):\n",
    "        item_path = os.path.join(package_path, item)\n",
    "\n",
    "        if os.path.isfile(item_path) and item.endswith(\".py\"):\n",
    "            # This item is a Python module file\n",
    "            module_name = package_name + \".\" + os.path.splitext(item)[0]\n",
    "\n",
    "            try:\n",
    "                # Import the module\n",
    "                module = __import__(module_name, fromlist=[\"\"])\n",
    "                classes_in_module = list_classes_in_module(module)\n",
    "                classes_in_package.extend(classes_in_module)\n",
    "\n",
    "            except ImportError:\n",
    "                print(f\"Failed to import module: {module_name}\")\n",
    "            else:\n",
    "                print(f'ModuleName is {module_name}')\n",
    "\n",
    "        elif os.path.isdir(item_path):\n",
    "            # This item is a sub-package\n",
    "            subpackage_name = package_name + \".\" + item\n",
    "            subpackage_path = item_path\n",
    "            classes_in_subpackage = list_classes_in_package(subpackage_path, subpackage_name)\n",
    "            classes_in_package.extend(classes_in_subpackage)\n",
    "            print(\"Classes in sklearn and sub-packages:\")\n",
    "            for class_name in classes_in_package:\n",
    "                print(class_name)\n",
    "\n",
    "    return None\n",
    "\n",
    "# Get the path to the sklearn package\n",
    "sklearn_path = os.path.dirname(sklearn.__file__)\n",
    "\n",
    "# List all classes in the sklearn package and its sub-packages\n",
    "list_classes_in_package(sklearn_path, \"sklearn\")\n",
    "\n"
   ]
  },
  {
   "cell_type": "code",
   "execution_count": null,
   "metadata": {},
   "outputs": [],
   "source": [
    "import os\n",
    "import inspect\n",
    "import sklearn\n",
    "\n",
    "# Function to list classes in a module\n",
    "def list_classes_in_module(module):\n",
    "    classes = inspect.getmembers(module, inspect.isclass)\n",
    "    return [class_name for class_name, _ in classes]\n",
    "\n",
    "def list_classes_in_package(package_path, package_name):\n",
    "    classes_in_package = []\n",
    "\n",
    "    for item in os.listdir(package_path):\n",
    "        item_path = os.path.join(package_path, item)\n",
    "\n",
    "        if os.path.isfile(item_path) and item.endswith(\".py\"):\n",
    "            # This item is a Python module file\n",
    "            module_name = package_name + \".\" + os.path.splitext(item)[0]\n",
    "\n",
    "            try:\n",
    "                # Import the module\n",
    "                module = __import__(module_name, fromlist=[\"\"])\n",
    "                classes_in_module = list_classes_in_module(module)\n",
    "                classes_in_package.extend(classes_in_module)\n",
    "\n",
    "                # Print the module name and associated classes\n",
    "                print(f\"Module Name: {module_name}\")\n",
    "                for class_name in classes_in_module:\n",
    "                    print(f\"  Class Name: {class_name}\")\n",
    "\n",
    "            except ImportError:\n",
    "                print(f\" \")\n",
    "\n",
    "        elif os.path.isdir(item_path):\n",
    "            # This item is a sub-package\n",
    "            subpackage_name = package_name + \".\" + item\n",
    "            subpackage_path = item_path\n",
    "            classes_in_subpackage = list_classes_in_package(subpackage_path, subpackage_name)\n",
    "            if classes_in_subpackage is not None:\n",
    "                classes_in_package.extend(classes_in_subpackage)\n",
    "    \n",
    "    return classes_in_package  # Ensure a list is returned\n",
    "\n",
    "# Get the path to the sklearn package\n",
    "sklearn_path = os.path.dirname(sklearn.__file__)\n",
    "\n",
    "# List all classes in the sklearn package and its sub-packages\n",
    "list_of_classes = list_classes_in_package(sklearn_path, \"sklearn\")\n"
   ]
  },
  {
   "cell_type": "code",
   "execution_count": null,
   "metadata": {},
   "outputs": [],
   "source": [
    "import os\n",
    "import sklearn\n",
    "\n",
    "# Function to list classes in a module\n",
    "def list_classes_in_module(module):\n",
    "    return module.__dict__\n",
    "\n",
    "def list_classes_in_package(package_path, package_name):\n",
    "    classes_in_package = []\n",
    "\n",
    "    for item in os.listdir(package_path):\n",
    "        item_path = os.path.join(package_path, item)\n",
    "\n",
    "        if os.path.isfile(item_path) and item.endswith(\".py\"):\n",
    "            # This item is a Python module file\n",
    "            module_name = package_name + \".\" + os.path.splitext(item)[0]\n",
    "\n",
    "            try:\n",
    "                # Import the module\n",
    "                module = __import__(module_name, fromlist=[\"\"])\n",
    "                classes_in_module = list_classes_in_module(module)\n",
    "                classes_in_package.extend(classes_in_module)\n",
    "\n",
    "                # Print the module name, class name, and their attributes\n",
    "                for class_name, class_obj in classes_in_module.items():\n",
    "                    if callable(class_obj):\n",
    "                        # This is a class, not a module-level function or variable\n",
    "                        print(f\"Module Name: {module_name}\")\n",
    "                        print(f\"  Class Name: {class_name}\")\n",
    "\n",
    "                        # List class attributes\n",
    "                        attributes = [attr for attr in dir(class_obj) if hasattr(class_obj, attr) and not callable(getattr(class_obj, attr))]\n",
    "                        if attributes:\n",
    "                            print(f\"    Attributes: {', '.join(attributes)}\")\n",
    "\n",
    "            except ImportError:\n",
    "                print(f\" \")\n",
    "\n",
    "        elif os.path.isdir(item_path):\n",
    "            # This item is a sub-package\n",
    "            subpackage_name = package_name + \".\" + item\n",
    "            subpackage_path = item_path\n",
    "            classes_in_subpackage = list_classes_in_package(subpackage_path, subpackage_name)\n",
    "            if classes_in_subpackage is not None:\n",
    "                classes_in_package.extend(classes_in_subpackage)\n",
    "    \n",
    "    return classes_in_package  # Ensure a list is returned\n",
    "\n",
    "# Get the path to the sklearn package\n",
    "sklearn_path = os.path.dirname(sklearn.__file__)\n",
    "\n",
    "# List all classes in the sklearn package and its sub-packages\n",
    "list_of_classes = list_classes_in_package(sklearn_path, \"sklearn\")\n"
   ]
  },
  {
   "cell_type": "code",
   "execution_count": null,
   "metadata": {},
   "outputs": [],
   "source": [
    "import os\n",
    "import sklearn\n",
    "\n",
    "# Function to list classes in a module\n",
    "def list_classes_in_module(module):\n",
    "    return module.__dict__\n",
    "\n",
    "def list_attributes_with_types(class_obj):\n",
    "    attributes_with_types = []\n",
    "    \n",
    "    # Check if the object has a __dict__ attribute\n",
    "    if hasattr(class_obj, '__dict__'):\n",
    "        for attr_name, attr_value in class_obj.__dict__.items():\n",
    "            if attr_name.startswith('_'):\n",
    "                continue  # Skip attributes starting with an underscore\n",
    "            try:\n",
    "                # Attempt to access the attribute's type\n",
    "                attr_type = type(attr_value).__name__\n",
    "            except AttributeError:\n",
    "                # Skip objects without a __dict__ attribute (e.g., built-in functions)\n",
    "                continue\n",
    "            if not callable(attr_value):\n",
    "                attributes_with_types.append((attr_name, attr_type, attr_value))\n",
    "    \n",
    "    return attributes_with_types\n",
    "\n",
    "def list_classes_in_package(package_path, package_name):\n",
    "    classes_in_package = []\n",
    "\n",
    "    for item in os.listdir(package_path):\n",
    "        item_path = os.path.join(package_path, item)\n",
    "\n",
    "        if os.path.isfile(item_path) and item.endswith(\".py\"):\n",
    "            # This item is a Python module file\n",
    "            module_name = package_name + \".\" + os.path.splitext(item)[0]\n",
    "\n",
    "            try:\n",
    "                # Import the module\n",
    "                module = __import__(module_name, fromlist=[\"\"])\n",
    "                classes_in_module = list_classes_in_module(module)\n",
    "                classes_in_package.extend(classes_in_module)\n",
    "\n",
    "                # Print the module name, class name, and attributes with types and default values\n",
    "                for class_name, class_obj in classes_in_module.items():\n",
    "                    if callable(class_obj):\n",
    "                        # This is a class, not a module-level function or variable\n",
    "                        print(f\"Module Name: {module_name}\")\n",
    "                        print(f\"  Class Name: {class_name}\")\n",
    "\n",
    "                        # List class attributes with types and default values\n",
    "                        attributes = list_attributes_with_types(class_obj)\n",
    "                        for attr_name, attr_type, attr_value in attributes:\n",
    "                            print(f\"    Attribute: {attr_name}\")\n",
    "                            print(f\"      Type: {attr_type}\")\n",
    "                            print(f\"      Default Value: {attr_value}\")\n",
    "\n",
    "            except ImportError:\n",
    "                print(f\" \")\n",
    "\n",
    "        elif os.path.isdir(item_path):\n",
    "            # This item is a sub-package\n",
    "            subpackage_name = package_name + \".\" + item\n",
    "            subpackage_path = item_path\n",
    "            classes_in_subpackage = list_classes_in_package(subpackage_path, subpackage_name)\n",
    "            if classes_in_subpackage is not None:\n",
    "                classes_in_package.extend(classes_in_subpackage)\n",
    "    \n",
    "    return classes_in_package  # Ensure a list is returned\n",
    "\n",
    "# Get the path to the sklearn package\n",
    "sklearn_path = os.path.dirname(sklearn.__file__)\n",
    "\n",
    "# List all classes in the sklearn package and its sub-packages\n",
    "list_of_classes = list_classes_in_package(sklearn_path, \"sklearn\")\n"
   ]
  },
  {
   "cell_type": "code",
   "execution_count": null,
   "metadata": {},
   "outputs": [],
   "source": [
    "pandas_df.to_csv(\"Pandas.csv\", index=False)"
   ]
  },
  {
   "cell_type": "code",
   "execution_count": null,
   "metadata": {},
   "outputs": [],
   "source": []
  }
 ],
 "metadata": {
  "kernelspec": {
   "display_name": "Python310",
   "language": "python",
   "name": "python310"
  },
  "language_info": {
   "codemirror_mode": {
    "name": "ipython",
    "version": 3
   },
   "file_extension": ".py",
   "mimetype": "text/x-python",
   "name": "python",
   "nbconvert_exporter": "python",
   "pygments_lexer": "ipython3",
   "version": "3.10.12"
  },
  "orig_nbformat": 4
 },
 "nbformat": 4,
 "nbformat_minor": 2
}
