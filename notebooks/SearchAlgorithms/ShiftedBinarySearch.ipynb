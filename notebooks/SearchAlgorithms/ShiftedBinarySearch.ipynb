{
 "cells": [
  {
   "cell_type": "markdown",
   "metadata": {},
   "source": [
    "# Shifted Binary Search\n",
    "\n",
    "##### \"Shifted Binary Search\" is a search algorithm used to find an element in a sorted array that has been rotated or shifted. This algorithm is also sometimes called \"Rotated Binary Search.\" \n",
    "##### Suppose you have a sorted array, but it has been rotated (circularly shifted) at some pivot point. For example, the sorted array [4, 5, 6, 7, 0, 1, 2] has been shifted to the right by 3 positions."
   ]
  },
  {
   "cell_type": "markdown",
   "metadata": {},
   "source": [
    "##### Shifted Binary Search Algorithm\n",
    "##### 1. Find the pivot point (the index where the array rotation occurred). This can be done using a binary search approach.\n",
    "##### 2. Once you know the pivot point, you can split the array into two subarrays, each of which is sorted.\n",
    "##### 3. Decide which subarray to search based on comparing the target element with the first element of the array.\n",
    "##### 4. Perform a standard binary search in the chosen subarray to find the target element."
   ]
  },
  {
   "cell_type": "code",
   "execution_count": 7,
   "metadata": {},
   "outputs": [],
   "source": [
    "def find_pivot(arr_list):\n",
    "    left, right = 0, len(arr_list) - 1\n",
    "    \n",
    "    while left < right:\n",
    "        mid = (left + right) // 2\n",
    "\n",
    "        if arr_list[mid] > arr_list[mid + 1]:\n",
    "            return mid\n",
    "        elif arr_list[mid] < arr_list[left]:\n",
    "            right = mid\n",
    "        else:\n",
    "            left = mid + 1\n",
    "        \n",
    "    return -1\n"
   ]
  },
  {
   "cell_type": "code",
   "execution_count": 9,
   "metadata": {},
   "outputs": [],
   "source": [
    "def binary_search(arr, target, left, right):\n",
    "    while left <= right:\n",
    "        mid = (left + right) // 2\n",
    "        if arr[mid] == target:\n",
    "            return mid\n",
    "        elif arr[mid] < target:\n",
    "            left = mid + 1\n",
    "        else:\n",
    "            right = mid - 1\n",
    "    return -1  # Target not found"
   ]
  },
  {
   "cell_type": "code",
   "execution_count": 10,
   "metadata": {},
   "outputs": [],
   "source": [
    "def shifted_binary_search(arr, target):\n",
    "    # Find the pivot point\n",
    "    pivot = find_pivot(arr)\n",
    "\n",
    "    # If the pivot is not found (array is not rotated), do a normal binary search\n",
    "    if pivot == -1:\n",
    "        return binary_search(arr, target, 0, len(arr) - 1)\n",
    "\n",
    "    # If we found the pivot, decide which subarray to search in\n",
    "    if arr[pivot] == target:\n",
    "        return pivot\n",
    "    elif arr[0] <= target:\n",
    "        return binary_search(arr, target, 0, pivot - 1)\n",
    "    else:\n",
    "        return binary_search(arr, target, pivot + 1, len(arr) - 1)"
   ]
  },
  {
   "cell_type": "code",
   "execution_count": 8,
   "metadata": {},
   "outputs": [
    {
     "data": {
      "text/plain": [
       "5"
      ]
     },
     "execution_count": 8,
     "metadata": {},
     "output_type": "execute_result"
    }
   ],
   "source": [
    "arr = [4, 5, 6, 7, 8, 9, 0, 1, 2]\n",
    "find_pivot(arr)"
   ]
  },
  {
   "cell_type": "code",
   "execution_count": null,
   "metadata": {},
   "outputs": [],
   "source": [
    "def find_pivot(arr_list):\n",
    "    left, right = 0, len(arr_list) - 1\n",
    "    \n",
    "    while left < right:\n",
    "        mid = (left + right) // 2\n",
    "\n",
    "        if arr_list[mid] > arr_list[mid + 1]:\n",
    "            return mid\n",
    "        elif arr_list[mid] < arr_list[left]:\n",
    "            right = mid\n",
    "        else:\n",
    "            left = mid + 1\n",
    "        \n",
    "    return -1\n",
    "\n",
    "def binary_search(arr, target, left, right):\n",
    "    while left <= right:\n",
    "        mid = (left + right) // 2\n",
    "        if arr[mid] == target:\n",
    "            return mid\n",
    "        elif arr[mid] < target:\n",
    "            left = mid + 1\n",
    "        else:\n",
    "            right = mid - 1\n",
    "    return -1  # Target not found\n",
    "\n",
    "def shifted_binary_search(arr, target):\n",
    "    # Find the pivot point\n",
    "    pivot = find_pivot(arr)\n",
    "\n",
    "    # If the pivot is not found (array is not rotated), do a normal binary search\n",
    "    if pivot == -1:\n",
    "        return binary_search(arr, target, 0, len(arr) - 1)\n",
    "\n",
    "    # If we found the pivot, decide which subarray to search in\n",
    "    if arr[pivot] == target:\n",
    "        return pivot\n",
    "    elif arr[0] <= target:\n",
    "        return binary_search(arr, target, 0, pivot - 1)\n",
    "    else:\n",
    "        return binary_search(arr, target, pivot + 1, len(arr) - 1)"
   ]
  },
  {
   "cell_type": "markdown",
   "metadata": {},
   "source": [
    "##### The time complexities are added because, in practice, you find the pivot point once and then perform the binary search, and the binary search is not dependent on finding the pivot again for each iteration.\n",
    "\n",
    "1. Finding the Pivot Point: This step involves a binary search to locate the pivot point and has a time complexity of O(log n). However, it's performed only once, so it doesn't repeat for each iteration of the binary search.\n",
    "\n",
    "2. Performing Binary Search: After finding the pivot point, you perform a binary search on one of the two subarrays, which also has a time complexity of O(log n). This step is repeated, but it's not dependent on finding the pivot point again after the initial step.\n",
    "##### Therefore, the time complexities are added together, resulting in an overall time complexity of O(log n) + O(log n), which simplifies to O(log n)."
   ]
  }
 ],
 "metadata": {
  "kernelspec": {
   "display_name": "Python310",
   "language": "python",
   "name": "python310"
  },
  "language_info": {
   "codemirror_mode": {
    "name": "ipython",
    "version": 3
   },
   "file_extension": ".py",
   "mimetype": "text/x-python",
   "name": "python",
   "nbconvert_exporter": "python",
   "pygments_lexer": "ipython3",
   "version": "3.10.12"
  },
  "orig_nbformat": 4
 },
 "nbformat": 4,
 "nbformat_minor": 2
}
