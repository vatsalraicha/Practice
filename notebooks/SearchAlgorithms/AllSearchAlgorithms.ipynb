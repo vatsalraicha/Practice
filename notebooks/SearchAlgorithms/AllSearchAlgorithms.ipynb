{
 "cells": [
  {
   "cell_type": "markdown",
   "metadata": {},
   "source": [
    "1. Binary Search"
   ]
  },
  {
   "cell_type": "code",
   "execution_count": 1,
   "metadata": {},
   "outputs": [],
   "source": [
    "def binary_search(arr_list, target):\n",
    "    left, right = 0, len(arr_list) - 1\n",
    "    while left <= right:\n",
    "        mid = (left + right) // 2\n",
    "        if arr_list[mid] == target:\n",
    "            return mid\n",
    "        elif arr_list[mid] < target:\n",
    "            left = mid + 1\n",
    "        else:\n",
    "            right = mid - 1\n",
    "    return -1"
   ]
  },
  {
   "cell_type": "markdown",
   "metadata": {},
   "source": [
    "2. Shifted Binary Search"
   ]
  },
  {
   "cell_type": "code",
   "execution_count": 2,
   "metadata": {},
   "outputs": [],
   "source": [
    "def find_pivot(arr_list):\n",
    "    left, right = 0, len(arr_list) - 1\n",
    "    \n",
    "    while left < right:\n",
    "        mid = (left + right) // 2\n",
    "\n",
    "        if arr_list[mid] > arr_list[mid + 1]:\n",
    "            return mid\n",
    "        elif arr_list[mid] < arr_list[left]:\n",
    "            right = mid\n",
    "        else:\n",
    "            left = mid + 1\n",
    "        \n",
    "    return -1\n",
    "\n",
    "def binary_search(arr, target, left, right):\n",
    "    while left <= right:\n",
    "        mid = (left + right) // 2\n",
    "        if arr[mid] == target:\n",
    "            return mid\n",
    "        elif arr[mid] < target:\n",
    "            left = mid + 1\n",
    "        else:\n",
    "            right = mid - 1\n",
    "    return -1  # Target not found\n",
    "\n",
    "def shifted_binary_search(arr, target):\n",
    "    # Find the pivot point\n",
    "    pivot = find_pivot(arr)\n",
    "\n",
    "    # If the pivot is not found (array is not rotated), do a normal binary search\n",
    "    if pivot == -1:\n",
    "        return binary_search(arr, target, 0, len(arr) - 1)\n",
    "\n",
    "    # If we found the pivot, decide which subarray to search in\n",
    "    if arr[pivot] == target:\n",
    "        return pivot\n",
    "    elif arr[0] <= target:\n",
    "        return binary_search(arr, target, 0, pivot - 1)\n",
    "    else:\n",
    "        return binary_search(arr, target, pivot + 1, len(arr) - 1)"
   ]
  },
  {
   "cell_type": "markdown",
   "metadata": {},
   "source": [
    "3. Find 3 Largest Unique Numbers in a given array, that may or may not be sorted."
   ]
  },
  {
   "cell_type": "code",
   "execution_count": 3,
   "metadata": {},
   "outputs": [],
   "source": [
    "import numpy as np"
   ]
  },
  {
   "cell_type": "code",
   "execution_count": 41,
   "metadata": {},
   "outputs": [
    {
     "name": "stdout",
     "output_type": "stream",
     "text": [
      "[73, 12, 98, 29, 53, 56, 28, 91, 62, 60, 41, 41, 26, 84, 68, 76, 58, 34, 92, 18, 56, 46, 59, 52, 18, 78, 34, 26, 77, 74, 76, 70, 94, 43, 92, 89, 77, 87, 16, 48, 17, 17, 39, 84, 44, 10, 67, 19, 22, 26, 30, 14, 29, 39, 80, 62, 78, 49, 93, 25, 87, 26, 38, 75, 97, 39, 30, 85, 43, 94, 93, 73, 46, 56, 74, 63, 32, 59, 67, 72]\n"
     ]
    }
   ],
   "source": [
    "arr = list(np.random.randint(10,100, 80))\n",
    "print(arr)"
   ]
  },
  {
   "cell_type": "code",
   "execution_count": 45,
   "metadata": {},
   "outputs": [
    {
     "name": "stdout",
     "output_type": "stream",
     "text": [
      "[73, 12, 98, 29, 53, 56, 28, 91, 62, 60, 41, 41, 26, 84, 68, 76, 58, 34, 92, 18, 56, 46, 59, 52, 18, 78, 34, 26, 77, 74, 76, 70, 94, 43, 92, 89, 77, 87, 16, 48, 17, 17, 39, 84, 44, 10, 67, 19, 22, 26, 30, 14, 29, 39, 80, 62, 78, 49, 93, 25, 87, 26, 38, 75, 94, 39, 30, 85, 43, 94, 93, 73, 46, 56, 74, 63, 32, 59, 67, 72]\n"
     ]
    }
   ],
   "source": [
    "arr[-16] = 94\n",
    "print(arr)"
   ]
  },
  {
   "cell_type": "code",
   "execution_count": 46,
   "metadata": {},
   "outputs": [
    {
     "name": "stdout",
     "output_type": "stream",
     "text": [
      "[10, 12, 14, 16, 17, 17, 18, 18, 19, 22, 25, 26, 26, 26, 26, 28, 29, 29, 30, 30, 32, 34, 34, 38, 39, 39, 39, 41, 41, 43, 43, 44, 46, 46, 48, 49, 52, 53, 56, 56, 56, 58, 59, 59, 60, 62, 62, 63, 67, 67, 68, 70, 72, 73, 73, 74, 74, 75, 76, 76, 77, 77, 78, 78, 80, 84, 84, 85, 87, 87, 89, 91, 92, 92, 93, 93, 94, 94, 94, 98]\n"
     ]
    }
   ],
   "source": [
    "print(sorted(arr))"
   ]
  },
  {
   "cell_type": "code",
   "execution_count": 43,
   "metadata": {},
   "outputs": [
    {
     "data": {
      "text/plain": [
       "80"
      ]
     },
     "execution_count": 43,
     "metadata": {},
     "output_type": "execute_result"
    }
   ],
   "source": [
    "len(arr)"
   ]
  },
  {
   "cell_type": "code",
   "execution_count": 54,
   "metadata": {},
   "outputs": [],
   "source": [
    "def Top3Numbers(arr):\n",
    "    first, second, third = float('-inf'), float('-inf'), float('-inf')\n",
    "    \n",
    "    if len(arr) < 2:\n",
    "        return -1\n",
    "    else:\n",
    "        for num in arr:\n",
    "            if num > first:\n",
    "                third = second\n",
    "                second = first\n",
    "                first = num\n",
    "            elif num > second and num != first:\n",
    "                third = second\n",
    "                second = num\n",
    "            elif num > third and num != second:\n",
    "                third = num\n",
    "        return [first, second, third]\n"
   ]
  },
  {
   "cell_type": "code",
   "execution_count": 55,
   "metadata": {},
   "outputs": [
    {
     "data": {
      "text/plain": [
       "[98, 94, 93]"
      ]
     },
     "execution_count": 55,
     "metadata": {},
     "output_type": "execute_result"
    }
   ],
   "source": [
    "Top3Numbers(arr)"
   ]
  },
  {
   "cell_type": "code",
   "execution_count": 69,
   "metadata": {},
   "outputs": [
    {
     "name": "stdout",
     "output_type": "stream",
     "text": [
      "Time Complexity n*log(n) - ,0.0,1.0,3.0,6.0,8.0,11.0,14.0,17.0,20.0,\n",
      "Time Complexity n^2 - ,1,4,9,16,25,36,49,64,81,"
     ]
    }
   ],
   "source": [
    "print('Time Complexity n*log(n) - ', end=',')\n",
    "for i in range(1,10):\n",
    "    print(round(i*np.log(i),0), end=\",\")\n",
    "print('',end='\\n')\n",
    "\n",
    "print('Time Complexity n^2 - ', end=',')\n",
    "for i in range(1,10):\n",
    "    print(round(i*i,2), end=\",\")"
   ]
  },
  {
   "cell_type": "code",
   "execution_count": null,
   "metadata": {},
   "outputs": [],
   "source": []
  }
 ],
 "metadata": {
  "kernelspec": {
   "display_name": "Python310",
   "language": "python",
   "name": "python310"
  },
  "language_info": {
   "codemirror_mode": {
    "name": "ipython",
    "version": 3
   },
   "file_extension": ".py",
   "mimetype": "text/x-python",
   "name": "python",
   "nbconvert_exporter": "python",
   "pygments_lexer": "ipython3",
   "version": "3.10.12"
  },
  "orig_nbformat": 4
 },
 "nbformat": 4,
 "nbformat_minor": 2
}
