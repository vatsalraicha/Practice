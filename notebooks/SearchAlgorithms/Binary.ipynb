{
 "cells": [
  {
   "cell_type": "markdown",
   "metadata": {},
   "source": [
    "# Binary Search\n",
    "### Binary search is a widely used algorithm for searching for a specific element in a sorted list or array. It's an efficient algorithm that works by repeatedly dividing the search interval in half."
   ]
  },
  {
   "cell_type": "markdown",
   "metadata": {},
   "source": [
    "## Binary Search Algorithm:\n",
    "\n",
    "#### 1. Initialize two pointers, left and right, to the first and last indices of the sorted list, respectively.\n",
    "#### 2. Calculate the middle index as mid = (left + right) // 2.\n",
    "#### 3. Compare the element at the middle index with the target element:\n",
    "#### 4. If they are equal, you've found the target, and you can return its index.\n",
    "#### 5. If the middle element is greater than the target, update right = mid - 1, effectively discarding the right half of the search interval.\n",
    "#### 6. If the middle element is less than the target, update left = mid + 1, effectively discarding the left half of the search interval.\n",
    "#### 7. Repeat steps 2 and 3 until left is greater than right. If this happens, the target element is not in the list, and you can return a value indicating that it's not found."
   ]
  },
  {
   "cell_type": "code",
   "execution_count": 14,
   "metadata": {},
   "outputs": [],
   "source": [
    "def binary_search(arr_list, target):\n",
    "    left, right = 0, len(arr_list) - 1\n",
    "    while left <= right:\n",
    "        mid = (left + right) // 2\n",
    "        if arr_list[mid] == target:\n",
    "            return mid\n",
    "        elif arr_list[mid] < target:\n",
    "            left = mid + 1\n",
    "        else:\n",
    "            right = mid - 1\n",
    "    return -1"
   ]
  },
  {
   "cell_type": "code",
   "execution_count": 2,
   "metadata": {},
   "outputs": [],
   "source": [
    "import numpy as np"
   ]
  },
  {
   "cell_type": "code",
   "execution_count": 15,
   "metadata": {},
   "outputs": [
    {
     "name": "stdout",
     "output_type": "stream",
     "text": [
      "333\n",
      "333\n"
     ]
    }
   ],
   "source": [
    "np_array = np.arange(1,1000,3)\n",
    "print(np_array.size)\n",
    "ls_array = list(np_array)\n",
    "print(len(ls_array))"
   ]
  },
  {
   "cell_type": "code",
   "execution_count": 16,
   "metadata": {},
   "outputs": [
    {
     "data": {
      "text/plain": [
       "-1"
      ]
     },
     "execution_count": 16,
     "metadata": {},
     "output_type": "execute_result"
    }
   ],
   "source": [
    "binary_search(ls_array, 200)"
   ]
  },
  {
   "cell_type": "code",
   "execution_count": 17,
   "metadata": {},
   "outputs": [
    {
     "data": {
      "text/plain": [
       "(67, 202)"
      ]
     },
     "execution_count": 17,
     "metadata": {},
     "output_type": "execute_result"
    }
   ],
   "source": [
    "binary_search(ls_array, 202), ls_array[binary_search(ls_array, 202)]"
   ]
  },
  {
   "cell_type": "code",
   "execution_count": 18,
   "metadata": {},
   "outputs": [
    {
     "data": {
      "text/plain": [
       "int"
      ]
     },
     "execution_count": 18,
     "metadata": {},
     "output_type": "execute_result"
    }
   ],
   "source": [
    "type(binary_search(ls_array, 202))"
   ]
  },
  {
   "cell_type": "markdown",
   "metadata": {},
   "source": [
    "#### The time complexity of the binary search algorithm is O(log n), where \"n\" is the number of elements in the sorted list or array being searched. Binary search is known for its efficiency, particularly when dealing with large datasets, because it reduces the search space by half in each iteration.\n",
    "\n",
    "Here's how the time complexity of binary search works:\n",
    "\n",
    "In the first iteration, the search space is divided in half. You compare the target element with the middle element, eliminating either the left or right half of the list.\n",
    "In the second iteration, the remaining search space is again divided in half, resulting in one-quarter of the original search space remaining.\n",
    "This process continues until the target element is found, or the search space is reduced to zero, indicating that the element is not present in the list.\n",
    "Because binary search divides the search space in half with each iteration, the number of iterations required to find an element is logarithmic in the size of the input data. Hence, the time complexity is O(log n), which is much more efficient than linear search (O(n)) for large datasets.\n",
    "\n",
    "It's important to note that binary search assumes that the input data is sorted, and it relies on random access to elements, as well as comparison operations. If these assumptions are met, binary search can provide efficient and fast search operations."
   ]
  },
  {
   "cell_type": "markdown",
   "metadata": {},
   "source": [
    "## Assumptions for Binary Search\n",
    "###### 1. Sorted Data: Binary search assumes that the input data is sorted in ascending (or descending) order. This sorting can be either in numerical or lexicographical order, depending on the data type.\n",
    "###### 2. Random Access: Binary search requires random access to elements in the list or array. This means that you can access elements directly using an index, like arr[i]. Linked lists, for example, do not provide efficient random access, so binary search is not well-suited for them.\n",
    "###### 3. Continuous Memory: Binary search is most efficient when the data is stored in a data structure that provides continuous memory allocation. This is typically the case for arrays. It's less efficient for data structures with scattered memory allocation, such as linked lists.\n",
    "###### 4. Equality Test: Binary search assumes that you can compare elements for equality. You need to be able to determine whether the middle element is equal to, less than, or greater than the target element. For custom data types, you may need to define a comparison function or operator.\n",
    "###### 5. No Duplicates (or Handle Duplicates Appropriately): Binary search is designed to find a single instance of an element. If there are duplicate elements in the sorted data, binary search will return the index of one of them. If you need to find all occurrences of an element, additional logic may be required.\n",
    "###### 6. No Structural Changes: Binary search assumes that the sorted data remains unchanged during the search operation. If elements are inserted or removed from the list, the list may no longer be sorted, and binary search would not work correctly.\n",
    "###### 7. Balanced Search Space: Binary search performs optimally when the search space is roughly balanced. If the data is heavily skewed, meaning most of the elements are on one side, binary search may not provide a significant advantage over linear search.\n",
    "###### 8. Knowledge of Sort Order: You should know whether the data is sorted in ascending or descending order, as this affects the comparison logic in the binary search algorithm."
   ]
  },
  {
   "cell_type": "code",
   "execution_count": null,
   "metadata": {},
   "outputs": [],
   "source": []
  }
 ],
 "metadata": {
  "kernelspec": {
   "display_name": "Python310",
   "language": "python",
   "name": "python310"
  },
  "language_info": {
   "codemirror_mode": {
    "name": "ipython",
    "version": 3
   },
   "file_extension": ".py",
   "mimetype": "text/x-python",
   "name": "python",
   "nbconvert_exporter": "python",
   "pygments_lexer": "ipython3",
   "version": "3.10.12"
  },
  "orig_nbformat": 4
 },
 "nbformat": 4,
 "nbformat_minor": 2
}
